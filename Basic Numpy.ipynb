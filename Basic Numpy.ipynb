{
 "cells": [
  {
   "cell_type": "markdown",
   "metadata": {},
   "source": [
    "## NumPy Basics: Arrays and Vecor Computation"
   ]
  },
  {
   "cell_type": "code",
   "execution_count": 3,
   "metadata": {},
   "outputs": [],
   "source": [
    "import numpy as np\n",
    "np.random.seed(12345) # ensure we have randomness\n",
    "np.set_printoptions(precision=4) # this will always print with 4dp for numbers"
   ]
  },
  {
   "cell_type": "code",
   "execution_count": 4,
   "metadata": {},
   "outputs": [
    {
     "data": {
      "text/plain": [
       "numpy.ndarray"
      ]
     },
     "execution_count": 4,
     "metadata": {},
     "output_type": "execute_result"
    }
   ],
   "source": [
    "# we use a-range to generate an array-range\n",
    "my_arr = np.arange(10000000) # NB press 'tab' for code completion and hinting\n",
    "my_arr\n",
    "type(my_arr)"
   ]
  },
  {
   "cell_type": "markdown",
   "metadata": {},
   "source": [
    "### NumPy arrays are efficient partly due to allowing only ONE data type"
   ]
  },
  {
   "cell_type": "code",
   "execution_count": 5,
   "metadata": {},
   "outputs": [
    {
     "name": "stdout",
     "output_type": "stream",
     "text": [
      "Wall time: 160 ms\n",
      "Wall time: 759 ms\n"
     ]
    }
   ],
   "source": [
    "# explore the performance of a NumPy array versus normal python\n",
    "l = list(range(1000000))\n",
    "# jupyter allows an immediate syntax like this\n",
    "%time for i in range(10): my_arr2 = my_arr*2 # multiply every member by 2\n",
    "%time for i in range(10): l2      = [x*2 for x in l] # multiply every member by 2"
   ]
  },
  {
   "cell_type": "code",
   "execution_count": 6,
   "metadata": {},
   "outputs": [
    {
     "data": {
      "text/plain": [
       "((2, 3), dtype('float64'))"
      ]
     },
     "execution_count": 6,
     "metadata": {},
     "output_type": "execute_result"
    }
   ],
   "source": [
    "# vetor arithmetic\n",
    "data = np.random.randn(2,3) # remember - only one data type is allowed in an array\n",
    "data*3\n",
    "data.shape, data.dtype"
   ]
  },
  {
   "cell_type": "code",
   "execution_count": 7,
   "metadata": {},
   "outputs": [
    {
     "data": {
      "text/plain": [
       "array([[ 343,  216,  125,   64],\n",
       "       [  -8,  -27,  -64, -125]], dtype=int32)"
      ]
     },
     "execution_count": 7,
     "metadata": {},
     "output_type": "execute_result"
    }
   ],
   "source": [
    "d2 = [[7,6,5,4], [-2,-3,-4,-5]] # list of list\n",
    "arr2 = np.array(d2)\n",
    "arr2**3"
   ]
  },
  {
   "cell_type": "code",
   "execution_count": 8,
   "metadata": {},
   "outputs": [
    {
     "data": {
      "text/plain": [
       "((2, 4), 2, dtype('int32'))"
      ]
     },
     "execution_count": 8,
     "metadata": {},
     "output_type": "execute_result"
    }
   ],
   "source": [
    "arr2.shape, arr2.ndim, arr2.dtype"
   ]
  },
  {
   "cell_type": "markdown",
   "metadata": {},
   "source": [
    "## Several Array Constructor"
   ]
  },
  {
   "cell_type": "code",
   "execution_count": 9,
   "metadata": {},
   "outputs": [
    {
     "data": {
      "text/plain": [
       "array([[-0.6141,  1.4368, -1.5583],\n",
       "       [-1.6672,  5.8973,  4.1802]])"
      ]
     },
     "execution_count": 9,
     "metadata": {},
     "output_type": "execute_result"
    }
   ],
   "source": [
    "z = np.zeros((3,6,2)) # caution - may not be zero\n",
    "e = np.empty((2,3)) # caution - may not be empty\n",
    "e"
   ]
  },
  {
   "cell_type": "code",
   "execution_count": 10,
   "metadata": {},
   "outputs": [
    {
     "data": {
      "text/plain": [
       "array([1, 2, 3], dtype=int64)"
      ]
     },
     "execution_count": 10,
     "metadata": {},
     "output_type": "execute_result"
    }
   ],
   "source": [
    "a1 = np.array([1,2,3], dtype=np.float32) # we can force a type\n",
    "a1\n",
    "a_i = a1.astype(np.int64)\n",
    "a_i"
   ]
  },
  {
   "cell_type": "code",
   "execution_count": 11,
   "metadata": {},
   "outputs": [
    {
     "data": {
      "text/plain": [
       "array([  1.25,   9.6 , -42.  ])"
      ]
     },
     "execution_count": 11,
     "metadata": {},
     "output_type": "execute_result"
    }
   ],
   "source": [
    "n_s = np.array(['1.25', '9.6', '-42'], dtype=np.string_)\n",
    "n_s\n",
    "n_f = n_s.astype(float)\n",
    "n_f"
   ]
  },
  {
   "cell_type": "code",
   "execution_count": 12,
   "metadata": {},
   "outputs": [
    {
     "name": "stderr",
     "output_type": "stream",
     "text": [
      "<ipython-input-12-ac8872fcd043>:1: RuntimeWarning: invalid value encountered in power\n",
      "  e ** n_f\n"
     ]
    },
    {
     "data": {
      "text/plain": [
       "array([[       nan, 3.2441e+01, 8.0996e-09],\n",
       "       [       nan, 2.5021e+07, 8.1217e-27]])"
      ]
     },
     "execution_count": 12,
     "metadata": {},
     "output_type": "execute_result"
    }
   ],
   "source": [
    "e ** n_f"
   ]
  },
  {
   "cell_type": "code",
   "execution_count": 13,
   "metadata": {},
   "outputs": [
    {
     "data": {
      "text/plain": [
       "array([[ True,  True, False],\n",
       "       [ True,  True, False]])"
      ]
     },
     "execution_count": 13,
     "metadata": {},
     "output_type": "execute_result"
    }
   ],
   "source": [
    "e<n_f"
   ]
  },
  {
   "cell_type": "markdown",
   "metadata": {},
   "source": [
    "## Slicing"
   ]
  },
  {
   "cell_type": "code",
   "execution_count": 14,
   "metadata": {},
   "outputs": [],
   "source": [
    "a = np.arange(10)\n",
    "a[5:8] = 12\n",
    "a\n",
    "a[3:8:2] # does NOT later the original\n",
    "a_s = a[5:9] # maintains a reference to the original\n",
    "a[6] = -9\n",
    "a_s # updated based on the original\n",
    "b = a.copy() # no longer a reference to the original\n",
    "c=a # by reference"
   ]
  },
  {
   "cell_type": "markdown",
   "metadata": {},
   "source": [
    "## Indexing"
   ]
  },
  {
   "cell_type": "code",
   "execution_count": 15,
   "metadata": {},
   "outputs": [
    {
     "data": {
      "text/plain": [
       "(array(['Amy', 'Babs', 'Cathy', 'Deidre'], dtype='<U6'),\n",
       " array([[ 0.0929,  0.2817,  0.769 ],\n",
       "        [ 1.2464,  1.0072, -1.2962],\n",
       "        [ 0.275 ,  0.2289,  1.3529],\n",
       "        [ 0.8864, -2.0016, -0.3718]]))"
      ]
     },
     "execution_count": 15,
     "metadata": {},
     "output_type": "execute_result"
    }
   ],
   "source": [
    "names = np.array(['Amy', 'Babs', 'Cathy', 'Deidre'])\n",
    "data = np.random.randn(4,3)\n",
    "names, data"
   ]
  },
  {
   "cell_type": "code",
   "execution_count": 16,
   "metadata": {},
   "outputs": [
    {
     "data": {
      "text/plain": [
       "array([[ 1.2464,  1.0072, -1.2962]])"
      ]
     },
     "execution_count": 16,
     "metadata": {},
     "output_type": "execute_result"
    }
   ],
   "source": [
    "names == 'Amy'\n",
    "data[names=='Babs'] # Babs returns true for the 1th row, so that row is returned"
   ]
  },
  {
   "cell_type": "markdown",
   "metadata": {},
   "source": [
    "## Reshaping"
   ]
  },
  {
   "cell_type": "code",
   "execution_count": 17,
   "metadata": {},
   "outputs": [
    {
     "data": {
      "text/plain": [
       "array([[ 7,  6,  5,  4],\n",
       "       [-2, -3, -4, -5]])"
      ]
     },
     "execution_count": 17,
     "metadata": {},
     "output_type": "execute_result"
    }
   ],
   "source": [
    "# often in numpy (and pandas) an operation is not persistent\n",
    "arr = np.arange(32)\n",
    "arr.reshape(8,4) # not persistnet (i.e. not in-place)\n",
    "arr2\n",
    "arr2"
   ]
  },
  {
   "cell_type": "code",
   "execution_count": 18,
   "metadata": {},
   "outputs": [
    {
     "data": {
      "text/plain": [
       "array([[ 7, -2],\n",
       "       [ 6, -3],\n",
       "       [ 5, -4],\n",
       "       [ 4, -5]])"
      ]
     },
     "execution_count": 18,
     "metadata": {},
     "output_type": "execute_result"
    }
   ],
   "source": [
    "arr3 = arr2.T # transpose\n",
    "arr3"
   ]
  },
  {
   "cell_type": "markdown",
   "metadata": {},
   "source": [
    "## using 'dot' arithmetic"
   ]
  },
  {
   "cell_type": "code",
   "execution_count": 19,
   "metadata": {},
   "outputs": [
    {
     "data": {
      "text/plain": [
       "array([[53, 48, 43, 38],\n",
       "       [48, 45, 42, 39],\n",
       "       [43, 42, 41, 40],\n",
       "       [38, 39, 40, 41]])"
      ]
     },
     "execution_count": 19,
     "metadata": {},
     "output_type": "execute_result"
    }
   ],
   "source": [
    "result = np.dot(arr2.T, arr2)\n",
    "result"
   ]
  },
  {
   "cell_type": "markdown",
   "metadata": {},
   "source": [
    "## Fast element-wise Array Functions"
   ]
  },
  {
   "cell_type": "code",
   "execution_count": 20,
   "metadata": {},
   "outputs": [
    {
     "data": {
      "text/plain": [
       "4.5"
      ]
     },
     "execution_count": 20,
     "metadata": {},
     "output_type": "execute_result"
    }
   ],
   "source": [
    "arr = np.arange(10)\n",
    "np.sqrt(arr)\n",
    "np.exp(arr)\n",
    "np.median(arr)"
   ]
  },
  {
   "cell_type": "code",
   "execution_count": 21,
   "metadata": {},
   "outputs": [
    {
     "data": {
      "text/plain": [
       "(array([ 1.669 , -0.4386, -0.5397,  0.477 ,  3.2489, -1.0212, -0.5771,\n",
       "         0.1241]),\n",
       " array([ 3.0261e-01,  5.2377e-01,  9.4028e-04,  1.3438e+00, -7.1354e-01,\n",
       "        -8.3115e-01, -2.3702e+00, -1.8608e+00]),\n",
       " array([ 1.6690e+00,  5.2377e-01,  9.4028e-04,  1.3438e+00,  3.2489e+00,\n",
       "        -8.3115e-01, -5.7709e-01,  1.2412e-01]))"
      ]
     },
     "execution_count": 21,
     "metadata": {},
     "output_type": "execute_result"
    }
   ],
   "source": [
    "x = np.random.randn(8)\n",
    "y = np.random.randn(8)\n",
    "x, y, np.maximum(x,y)"
   ]
  },
  {
   "cell_type": "markdown",
   "metadata": {},
   "source": [
    "## Array Oriented Programming"
   ]
  },
  {
   "cell_type": "code",
   "execution_count": 22,
   "metadata": {},
   "outputs": [
    {
     "name": "stdout",
     "output_type": "stream",
     "text": [
      "Wall time: 866 ms\n"
     ]
    },
    {
     "data": {
      "text/plain": [
       "array([[7.0007, 7.    , 6.9993, ..., 6.9986, 6.9993, 7.    ],\n",
       "       [7.    , 6.9993, 6.9986, ..., 6.9979, 6.9986, 6.9993],\n",
       "       [6.9993, 6.9986, 6.9979, ..., 6.9972, 6.9979, 6.9986],\n",
       "       ...,\n",
       "       [6.9332, 6.9324, 6.9317, ..., 6.931 , 6.9317, 6.9324],\n",
       "       [6.9325, 6.9318, 6.931 , ..., 6.9303, 6.931 , 6.9318],\n",
       "       [6.9318, 6.9311, 6.9303, ..., 6.9296, 6.9303, 6.9311]])"
      ]
     },
     "execution_count": 22,
     "metadata": {},
     "output_type": "execute_result"
    }
   ],
   "source": [
    "points = np.arange(-5, 5, 0.001) # 1000 equally spaces points\n",
    "points\n",
    "xs, ys = np.meshgrid(points, points)\n",
    "%time z = np.sqrt(xs**2 + ys**2) # pythagorus\n",
    "z[100:200]"
   ]
  },
  {
   "cell_type": "markdown",
   "metadata": {},
   "source": [
    "## Charting with maptplotlib"
   ]
  },
  {
   "cell_type": "code",
   "execution_count": 23,
   "metadata": {},
   "outputs": [],
   "source": [
    "import matplotlib.pyplot as plt # convention"
   ]
  },
  {
   "cell_type": "code",
   "execution_count": 24,
   "metadata": {},
   "outputs": [
    {
     "data": {
      "text/plain": [
       "<matplotlib.colorbar.Colorbar at 0x1c77553b400>"
      ]
     },
     "execution_count": 24,
     "metadata": {},
     "output_type": "execute_result"
    },
    {
     "data": {
      "image/png": "[encoded data removed]",
      "text/plain": [
       "<Figure size 432x288 with 2 Axes>"
      ]
     },
     "metadata": {
      "needs_background": "light"
     },
     "output_type": "display_data"
    }
   ],
   "source": [
    "plt.imshow(z, cmap=plt.cm.gray)\n",
    "plt.colorbar()"
   ]
  },
  {
   "cell_type": "markdown",
   "metadata": {},
   "source": [
    "## Consuming Data from API or Files"
   ]
  },
  {
   "cell_type": "code",
   "execution_count": 25,
   "metadata": {},
   "outputs": [
    {
     "data": {
      "text/plain": [
       "array([[5.1, 3.5, 1.4, 0.2, nan],\n",
       "       [4.9, 3. , 1.4, 0.2, nan],\n",
       "       [4.7, 3.2, 1.3, 0.2, nan],\n",
       "       [4.6, 3.1, 1.5, 0.2, nan],\n",
       "       [5. , 3.6, 1.4, 0.2, nan],\n",
       "       [5.4, 3.9, 1.7, 0.4, nan],\n",
       "       [4.6, 3.4, 1.4, 0.3, nan],\n",
       "       [5. , 3.4, 1.5, 0.2, nan],\n",
       "       [4.4, 2.9, 1.4, 0.2, nan],\n",
       "       [4.9, 3.1, 1.5, 0.1, nan],\n",
       "       [5.4, 3.7, 1.5, 0.2, nan],\n",
       "       [4.8, 3.4, 1.6, 0.2, nan],\n",
       "       [4.8, 3. , 1.4, 0.1, nan],\n",
       "       [4.3, 3. , 1.1, 0.1, nan],\n",
       "       [5.8, 4. , 1.2, 0.2, nan],\n",
       "       [5.7, 4.4, 1.5, 0.4, nan],\n",
       "       [5.4, 3.9, 1.3, 0.4, nan],\n",
       "       [5.1, 3.5, 1.4, 0.3, nan],\n",
       "       [5.7, 3.8, 1.7, 0.3, nan],\n",
       "       [5.1, 3.8, 1.5, 0.3, nan],\n",
       "       [5.4, 3.4, 1.7, 0.2, nan],\n",
       "       [5.1, 3.7, 1.5, 0.4, nan],\n",
       "       [4.6, 3.6, 1. , 0.2, nan],\n",
       "       [5.1, 3.3, 1.7, 0.5, nan],\n",
       "       [4.8, 3.4, 1.9, 0.2, nan],\n",
       "       [5. , 3. , 1.6, 0.2, nan],\n",
       "       [5. , 3.4, 1.6, 0.4, nan],\n",
       "       [5.2, 3.5, 1.5, 0.2, nan],\n",
       "       [5.2, 3.4, 1.4, 0.2, nan],\n",
       "       [4.7, 3.2, 1.6, 0.2, nan],\n",
       "       [4.8, 3.1, 1.6, 0.2, nan],\n",
       "       [5.4, 3.4, 1.5, 0.4, nan],\n",
       "       [5.2, 4.1, 1.5, 0.1, nan],\n",
       "       [5.5, 4.2, 1.4, 0.2, nan],\n",
       "       [4.9, 3.1, 1.5, 0.1, nan],\n",
       "       [5. , 3.2, 1.2, 0.2, nan],\n",
       "       [5.5, 3.5, 1.3, 0.2, nan],\n",
       "       [4.9, 3.1, 1.5, 0.1, nan],\n",
       "       [4.4, 3. , 1.3, 0.2, nan],\n",
       "       [5.1, 3.4, 1.5, 0.2, nan],\n",
       "       [5. , 3.5, 1.3, 0.3, nan],\n",
       "       [4.5, 2.3, 1.3, 0.3, nan],\n",
       "       [4.4, 3.2, 1.3, 0.2, nan],\n",
       "       [5. , 3.5, 1.6, 0.6, nan],\n",
       "       [5.1, 3.8, 1.9, 0.4, nan],\n",
       "       [4.8, 3. , 1.4, 0.3, nan],\n",
       "       [5.1, 3.8, 1.6, 0.2, nan],\n",
       "       [4.6, 3.2, 1.4, 0.2, nan],\n",
       "       [5.3, 3.7, 1.5, 0.2, nan],\n",
       "       [5. , 3.3, 1.4, 0.2, nan],\n",
       "       [7. , 3.2, 4.7, 1.4, nan],\n",
       "       [6.4, 3.2, 4.5, 1.5, nan],\n",
       "       [6.9, 3.1, 4.9, 1.5, nan],\n",
       "       [5.5, 2.3, 4. , 1.3, nan],\n",
       "       [6.5, 2.8, 4.6, 1.5, nan],\n",
       "       [5.7, 2.8, 4.5, 1.3, nan],\n",
       "       [6.3, 3.3, 4.7, 1.6, nan],\n",
       "       [4.9, 2.4, 3.3, 1. , nan],\n",
       "       [6.6, 2.9, 4.6, 1.3, nan],\n",
       "       [5.2, 2.7, 3.9, 1.4, nan],\n",
       "       [5. , 2. , 3.5, 1. , nan],\n",
       "       [5.9, 3. , 4.2, 1.5, nan],\n",
       "       [6. , 2.2, 4. , 1. , nan],\n",
       "       [6.1, 2.9, 4.7, 1.4, nan],\n",
       "       [5.6, 2.9, 3.6, 1.3, nan],\n",
       "       [6.7, 3.1, 4.4, 1.4, nan],\n",
       "       [5.6, 3. , 4.5, 1.5, nan],\n",
       "       [5.8, 2.7, 4.1, 1. , nan],\n",
       "       [6.2, 2.2, 4.5, 1.5, nan],\n",
       "       [5.6, 2.5, 3.9, 1.1, nan],\n",
       "       [5.9, 3.2, 4.8, 1.8, nan],\n",
       "       [6.1, 2.8, 4. , 1.3, nan],\n",
       "       [6.3, 2.5, 4.9, 1.5, nan],\n",
       "       [6.1, 2.8, 4.7, 1.2, nan],\n",
       "       [6.4, 2.9, 4.3, 1.3, nan],\n",
       "       [6.6, 3. , 4.4, 1.4, nan],\n",
       "       [6.8, 2.8, 4.8, 1.4, nan],\n",
       "       [6.7, 3. , 5. , 1.7, nan],\n",
       "       [6. , 2.9, 4.5, 1.5, nan],\n",
       "       [5.7, 2.6, 3.5, 1. , nan],\n",
       "       [5.5, 2.4, 3.8, 1.1, nan],\n",
       "       [5.5, 2.4, 3.7, 1. , nan],\n",
       "       [5.8, 2.7, 3.9, 1.2, nan],\n",
       "       [6. , 2.7, 5.1, 1.6, nan],\n",
       "       [5.4, 3. , 4.5, 1.5, nan],\n",
       "       [6. , 3.4, 4.5, 1.6, nan],\n",
       "       [6.7, 3.1, 4.7, 1.5, nan],\n",
       "       [6.3, 2.3, 4.4, 1.3, nan],\n",
       "       [5.6, 3. , 4.1, 1.3, nan],\n",
       "       [5.5, 2.5, 4. , 1.3, nan],\n",
       "       [5.5, 2.6, 4.4, 1.2, nan],\n",
       "       [6.1, 3. , 4.6, 1.4, nan],\n",
       "       [5.8, 2.6, 4. , 1.2, nan],\n",
       "       [5. , 2.3, 3.3, 1. , nan],\n",
       "       [5.6, 2.7, 4.2, 1.3, nan],\n",
       "       [5.7, 3. , 4.2, 1.2, nan],\n",
       "       [5.7, 2.9, 4.2, 1.3, nan],\n",
       "       [6.2, 2.9, 4.3, 1.3, nan],\n",
       "       [5.1, 2.5, 3. , 1.1, nan],\n",
       "       [5.7, 2.8, 4.1, 1.3, nan],\n",
       "       [6.3, 3.3, 6. , 2.5, nan],\n",
       "       [5.8, 2.7, 5.1, 1.9, nan],\n",
       "       [7.1, 3. , 5.9, 2.1, nan],\n",
       "       [6.3, 2.9, 5.6, 1.8, nan],\n",
       "       [6.5, 3. , 5.8, 2.2, nan],\n",
       "       [7.6, 3. , 6.6, 2.1, nan],\n",
       "       [4.9, 2.5, 4.5, 1.7, nan],\n",
       "       [7.3, 2.9, 6.3, 1.8, nan],\n",
       "       [6.7, 2.5, 5.8, 1.8, nan],\n",
       "       [7.2, 3.6, 6.1, 2.5, nan],\n",
       "       [6.5, 3.2, 5.1, 2. , nan],\n",
       "       [6.4, 2.7, 5.3, 1.9, nan],\n",
       "       [6.8, 3. , 5.5, 2.1, nan],\n",
       "       [5.7, 2.5, 5. , 2. , nan],\n",
       "       [5.8, 2.8, 5.1, 2.4, nan],\n",
       "       [6.4, 3.2, 5.3, 2.3, nan],\n",
       "       [6.5, 3. , 5.5, 1.8, nan],\n",
       "       [7.7, 3.8, 6.7, 2.2, nan],\n",
       "       [7.7, 2.6, 6.9, 2.3, nan],\n",
       "       [6. , 2.2, 5. , 1.5, nan],\n",
       "       [6.9, 3.2, 5.7, 2.3, nan],\n",
       "       [5.6, 2.8, 4.9, 2. , nan],\n",
       "       [7.7, 2.8, 6.7, 2. , nan],\n",
       "       [6.3, 2.7, 4.9, 1.8, nan],\n",
       "       [6.7, 3.3, 5.7, 2.1, nan],\n",
       "       [7.2, 3.2, 6. , 1.8, nan],\n",
       "       [6.2, 2.8, 4.8, 1.8, nan],\n",
       "       [6.1, 3. , 4.9, 1.8, nan],\n",
       "       [6.4, 2.8, 5.6, 2.1, nan],\n",
       "       [7.2, 3. , 5.8, 1.6, nan],\n",
       "       [7.4, 2.8, 6.1, 1.9, nan],\n",
       "       [7.9, 3.8, 6.4, 2. , nan],\n",
       "       [6.4, 2.8, 5.6, 2.2, nan],\n",
       "       [6.3, 2.8, 5.1, 1.5, nan],\n",
       "       [6.1, 2.6, 5.6, 1.4, nan],\n",
       "       [7.7, 3. , 6.1, 2.3, nan],\n",
       "       [6.3, 3.4, 5.6, 2.4, nan],\n",
       "       [6.4, 3.1, 5.5, 1.8, nan],\n",
       "       [6. , 3. , 4.8, 1.8, nan],\n",
       "       [6.9, 3.1, 5.4, 2.1, nan],\n",
       "       [6.7, 3.1, 5.6, 2.4, nan],\n",
       "       [6.9, 3.1, 5.1, 2.3, nan],\n",
       "       [5.8, 2.7, 5.1, 1.9, nan],\n",
       "       [6.8, 3.2, 5.9, 2.3, nan],\n",
       "       [6.7, 3.3, 5.7, 2.5, nan],\n",
       "       [6.7, 3. , 5.2, 2.3, nan],\n",
       "       [6.3, 2.5, 5. , 1.9, nan],\n",
       "       [6.5, 3. , 5.2, 2. , nan],\n",
       "       [6.2, 3.4, 5.4, 2.3, nan],\n",
       "       [5.9, 3. , 5.1, 1.8, nan]])"
      ]
     },
     "execution_count": 25,
     "metadata": {},
     "output_type": "execute_result"
    }
   ],
   "source": [
    "url = 'https://archive.ics.uci.edu/ml/machine-learning-databases/iris/iris.data'\n",
    "iris_2d = np.genfromtxt(url, delimiter=',', dtype='float')\n",
    "iris_2d"
   ]
  },
  {
   "cell_type": "code",
   "execution_count": 26,
   "metadata": {},
   "outputs": [
    {
     "data": {
      "text/plain": [
       "array([[5.1, 3.5, 1.4, 0.2, nan],\n",
       "       [4.9, 3. , 1.4, 0.2, nan],\n",
       "       [4.7, 3.2, 1.3, 0.2, nan],\n",
       "       [4.6, 3.1, 1.5, 0.2, nan],\n",
       "       [5. , 3.6, 1.4, 0.2, nan],\n",
       "       [5.4, 3.9, 1.7, 0.4, nan],\n",
       "       [4.6, 3.4, 1.4, 0.3, nan],\n",
       "       [5. , 3.4, 1.5, 0.2, nan],\n",
       "       [4.4, 2.9, 1.4, 0.2, nan],\n",
       "       [4.9, 3.1, 1.5, 0.1, nan],\n",
       "       [5.4, 3.7, 1.5, 0.2, nan],\n",
       "       [4.8, 3.4, 1.6, 0.2, nan],\n",
       "       [4.8, 3. , 1.4, 0.1, nan],\n",
       "       [4.3, 3. , 1.1, 0.1, nan],\n",
       "       [5.8, 4. , 1.2, 0.2, nan],\n",
       "       [5.7, 4.4, 1.5, 0.4, nan],\n",
       "       [5.4, 3.9, 1.3, 0.4, nan],\n",
       "       [5.1, 3.5, 1.4, 0.3, nan],\n",
       "       [5.7, 3.8, 1.7, 0.3, nan],\n",
       "       [5.1, 3.8, 1.5, 0.3, nan],\n",
       "       [5.4, 3.4, 1.7, 0.2, nan],\n",
       "       [5.1, 3.7, 1.5, 0.4, nan],\n",
       "       [4.6, 3.6, 1. , 0.2, nan],\n",
       "       [5.1, 3.3, 1.7, 0.5, nan],\n",
       "       [4.8, 3.4, 1.9, 0.2, nan],\n",
       "       [5. , 3. , 1.6, 0.2, nan],\n",
       "       [5. , 3.4, 1.6, 0.4, nan],\n",
       "       [5.2, 3.5, 1.5, 0.2, nan],\n",
       "       [5.2, 3.4, 1.4, 0.2, nan],\n",
       "       [4.7, 3.2, 1.6, 0.2, nan],\n",
       "       [4.8, 3.1, 1.6, 0.2, nan],\n",
       "       [5.4, 3.4, 1.5, 0.4, nan],\n",
       "       [5.2, 4.1, 1.5, 0.1, nan],\n",
       "       [5.5, 4.2, 1.4, 0.2, nan],\n",
       "       [4.9, 3.1, 1.5, 0.1, nan],\n",
       "       [5. , 3.2, 1.2, 0.2, nan],\n",
       "       [5.5, 3.5, 1.3, 0.2, nan],\n",
       "       [4.9, 3.1, 1.5, 0.1, nan],\n",
       "       [4.4, 3. , 1.3, 0.2, nan],\n",
       "       [5.1, 3.4, 1.5, 0.2, nan],\n",
       "       [5. , 3.5, 1.3, 0.3, nan],\n",
       "       [4.5, 2.3, 1.3, 0.3, nan],\n",
       "       [4.4, 3.2, 1.3, 0.2, nan],\n",
       "       [5. , 3.5, 1.6, 0.6, nan],\n",
       "       [5.1, 3.8, 1.9, 0.4, nan],\n",
       "       [4.8, 3. , 1.4, 0.3, nan],\n",
       "       [5.1, 3.8, 1.6, 0.2, nan],\n",
       "       [4.6, 3.2, 1.4, 0.2, nan],\n",
       "       [5.3, 3.7, 1.5, 0.2, nan],\n",
       "       [5. , 3.3, 1.4, 0.2, nan],\n",
       "       [7. , 3.2, 4.7, 1.4, nan],\n",
       "       [6.4, 3.2, 4.5, 1.5, nan],\n",
       "       [6.9, 3.1, 4.9, 1.5, nan],\n",
       "       [5.5, 2.3, 4. , 1.3, nan],\n",
       "       [6.5, 2.8, 4.6, 1.5, nan],\n",
       "       [5.7, 2.8, 4.5, 1.3, nan],\n",
       "       [6.3, 3.3, 4.7, 1.6, nan],\n",
       "       [4.9, 2.4, 3.3, 1. , nan],\n",
       "       [6.6, 2.9, 4.6, 1.3, nan],\n",
       "       [5.2, 2.7, 3.9, 1.4, nan],\n",
       "       [5. , 2. , 3.5, 1. , nan],\n",
       "       [5.9, 3. , 4.2, 1.5, nan],\n",
       "       [6. , 2.2, 4. , 1. , nan],\n",
       "       [6.1, 2.9, 4.7, 1.4, nan],\n",
       "       [5.6, 2.9, 3.6, 1.3, nan],\n",
       "       [6.7, 3.1, 4.4, 1.4, nan],\n",
       "       [5.6, 3. , 4.5, 1.5, nan],\n",
       "       [5.8, 2.7, 4.1, 1. , nan],\n",
       "       [6.2, 2.2, 4.5, 1.5, nan],\n",
       "       [5.6, 2.5, 3.9, 1.1, nan],\n",
       "       [5.9, 3.2, 4.8, 1.8, nan],\n",
       "       [6.1, 2.8, 4. , 1.3, nan],\n",
       "       [6.3, 2.5, 4.9, 1.5, nan],\n",
       "       [6.1, 2.8, 4.7, 1.2, nan],\n",
       "       [6.4, 2.9, 4.3, 1.3, nan],\n",
       "       [6.6, 3. , 4.4, 1.4, nan],\n",
       "       [6.8, 2.8, 4.8, 1.4, nan],\n",
       "       [6.7, 3. , 5. , 1.7, nan],\n",
       "       [6. , 2.9, 4.5, 1.5, nan],\n",
       "       [5.7, 2.6, 3.5, 1. , nan],\n",
       "       [5.5, 2.4, 3.8, 1.1, nan],\n",
       "       [5.5, 2.4, 3.7, 1. , nan],\n",
       "       [5.8, 2.7, 3.9, 1.2, nan],\n",
       "       [6. , 2.7, 5.1, 1.6, nan],\n",
       "       [5.4, 3. , 4.5, 1.5, nan],\n",
       "       [6. , 3.4, 4.5, 1.6, nan],\n",
       "       [6.7, 3.1, 4.7, 1.5, nan],\n",
       "       [6.3, 2.3, 4.4, 1.3, nan],\n",
       "       [5.6, 3. , 4.1, 1.3, nan],\n",
       "       [5.5, 2.5, 4. , 1.3, nan],\n",
       "       [5.5, 2.6, 4.4, 1.2, nan],\n",
       "       [6.1, 3. , 4.6, 1.4, nan],\n",
       "       [5.8, 2.6, 4. , 1.2, nan],\n",
       "       [5. , 2.3, 3.3, 1. , nan],\n",
       "       [5.6, 2.7, 4.2, 1.3, nan],\n",
       "       [5.7, 3. , 4.2, 1.2, nan],\n",
       "       [5.7, 2.9, 4.2, 1.3, nan],\n",
       "       [6.2, 2.9, 4.3, 1.3, nan],\n",
       "       [5.1, 2.5, 3. , 1.1, nan],\n",
       "       [5.7, 2.8, 4.1, 1.3, nan],\n",
       "       [6.3, 3.3, 6. , 2.5, nan],\n",
       "       [5.8, 2.7, 5.1, 1.9, nan],\n",
       "       [7.1, 3. , 5.9, 2.1, nan],\n",
       "       [6.3, 2.9, 5.6, 1.8, nan],\n",
       "       [6.5, 3. , 5.8, 2.2, nan],\n",
       "       [7.6, 3. , 6.6, 2.1, nan],\n",
       "       [4.9, 2.5, 4.5, 1.7, nan],\n",
       "       [7.3, 2.9, 6.3, 1.8, nan],\n",
       "       [6.7, 2.5, 5.8, 1.8, nan],\n",
       "       [7.2, 3.6, 6.1, 2.5, nan],\n",
       "       [6.5, 3.2, 5.1, 2. , nan],\n",
       "       [6.4, 2.7, 5.3, 1.9, nan],\n",
       "       [6.8, 3. , 5.5, 2.1, nan],\n",
       "       [5.7, 2.5, 5. , 2. , nan],\n",
       "       [5.8, 2.8, 5.1, 2.4, nan],\n",
       "       [6.4, 3.2, 5.3, 2.3, nan],\n",
       "       [6.5, 3. , 5.5, 1.8, nan],\n",
       "       [7.7, 3.8, 6.7, 2.2, nan],\n",
       "       [7.7, 2.6, 6.9, 2.3, nan],\n",
       "       [6. , 2.2, 5. , 1.5, nan],\n",
       "       [6.9, 3.2, 5.7, 2.3, nan],\n",
       "       [5.6, 2.8, 4.9, 2. , nan],\n",
       "       [7.7, 2.8, 6.7, 2. , nan],\n",
       "       [6.3, 2.7, 4.9, 1.8, nan],\n",
       "       [6.7, 3.3, 5.7, 2.1, nan],\n",
       "       [7.2, 3.2, 6. , 1.8, nan],\n",
       "       [6.2, 2.8, 4.8, 1.8, nan],\n",
       "       [6.1, 3. , 4.9, 1.8, nan],\n",
       "       [6.4, 2.8, 5.6, 2.1, nan],\n",
       "       [7.2, 3. , 5.8, 1.6, nan],\n",
       "       [7.4, 2.8, 6.1, 1.9, nan],\n",
       "       [7.9, 3.8, 6.4, 2. , nan],\n",
       "       [6.4, 2.8, 5.6, 2.2, nan],\n",
       "       [6.3, 2.8, 5.1, 1.5, nan],\n",
       "       [6.1, 2.6, 5.6, 1.4, nan],\n",
       "       [7.7, 3. , 6.1, 2.3, nan],\n",
       "       [6.3, 3.4, 5.6, 2.4, nan],\n",
       "       [6.4, 3.1, 5.5, 1.8, nan],\n",
       "       [6. , 3. , 4.8, 1.8, nan],\n",
       "       [6.9, 3.1, 5.4, 2.1, nan],\n",
       "       [6.7, 3.1, 5.6, 2.4, nan],\n",
       "       [6.9, 3.1, 5.1, 2.3, nan],\n",
       "       [5.8, 2.7, 5.1, 1.9, nan],\n",
       "       [6.8, 3.2, 5.9, 2.3, nan],\n",
       "       [6.7, 3.3, 5.7, 2.5, nan],\n",
       "       [6.7, 3. , 5.2, 2.3, nan],\n",
       "       [6.3, 2.5, 5. , 1.9, nan],\n",
       "       [6.5, 3. , 5.2, 2. , nan],\n",
       "       [6.2, 3.4, 5.4, 2.3, nan],\n",
       "       [5.9, 3. , 5.1, 1.8, nan]])"
      ]
     },
     "execution_count": 26,
     "metadata": {},
     "output_type": "execute_result"
    }
   ],
   "source": [
    "arr = np.arange(10)\n",
    "np.save('my_arr.npy', iris_2d) # save the iris data set as a binary file (not text)\n",
    "#read back\n",
    "retrieved = np.load('my_arr.npy')\n",
    "retrieved"
   ]
  },
  {
   "cell_type": "code",
   "execution_count": 27,
   "metadata": {},
   "outputs": [
    {
     "data": {
      "text/plain": [
       "array([[5.1, 3.5, 1.4, 0.2, nan],\n",
       "       [4.9, 3. , 1.4, 0.2, nan],\n",
       "       [4.7, 3.2, 1.3, 0.2, nan],\n",
       "       [4.6, 3.1, 1.5, 0.2, nan],\n",
       "       [5. , 3.6, 1.4, 0.2, nan],\n",
       "       [5.4, 3.9, 1.7, 0.4, nan],\n",
       "       [4.6, 3.4, 1.4, 0.3, nan],\n",
       "       [5. , 3.4, 1.5, 0.2, nan],\n",
       "       [4.4, 2.9, 1.4, 0.2, nan],\n",
       "       [4.9, 3.1, 1.5, 0.1, nan],\n",
       "       [5.4, 3.7, 1.5, 0.2, nan],\n",
       "       [4.8, 3.4, 1.6, 0.2, nan],\n",
       "       [4.8, 3. , 1.4, 0.1, nan],\n",
       "       [4.3, 3. , 1.1, 0.1, nan],\n",
       "       [5.8, 4. , 1.2, 0.2, nan],\n",
       "       [5.7, 4.4, 1.5, 0.4, nan],\n",
       "       [5.4, 3.9, 1.3, 0.4, nan],\n",
       "       [5.1, 3.5, 1.4, 0.3, nan],\n",
       "       [5.7, 3.8, 1.7, 0.3, nan],\n",
       "       [5.1, 3.8, 1.5, 0.3, nan],\n",
       "       [5.4, 3.4, 1.7, 0.2, nan],\n",
       "       [5.1, 3.7, 1.5, 0.4, nan],\n",
       "       [4.6, 3.6, 1. , 0.2, nan],\n",
       "       [5.1, 3.3, 1.7, 0.5, nan],\n",
       "       [4.8, 3.4, 1.9, 0.2, nan],\n",
       "       [5. , 3. , 1.6, 0.2, nan],\n",
       "       [5. , 3.4, 1.6, 0.4, nan],\n",
       "       [5.2, 3.5, 1.5, 0.2, nan],\n",
       "       [5.2, 3.4, 1.4, 0.2, nan],\n",
       "       [4.7, 3.2, 1.6, 0.2, nan],\n",
       "       [4.8, 3.1, 1.6, 0.2, nan],\n",
       "       [5.4, 3.4, 1.5, 0.4, nan],\n",
       "       [5.2, 4.1, 1.5, 0.1, nan],\n",
       "       [5.5, 4.2, 1.4, 0.2, nan],\n",
       "       [4.9, 3.1, 1.5, 0.1, nan],\n",
       "       [5. , 3.2, 1.2, 0.2, nan],\n",
       "       [5.5, 3.5, 1.3, 0.2, nan],\n",
       "       [4.9, 3.1, 1.5, 0.1, nan],\n",
       "       [4.4, 3. , 1.3, 0.2, nan],\n",
       "       [5.1, 3.4, 1.5, 0.2, nan],\n",
       "       [5. , 3.5, 1.3, 0.3, nan],\n",
       "       [4.5, 2.3, 1.3, 0.3, nan],\n",
       "       [4.4, 3.2, 1.3, 0.2, nan],\n",
       "       [5. , 3.5, 1.6, 0.6, nan],\n",
       "       [5.1, 3.8, 1.9, 0.4, nan],\n",
       "       [4.8, 3. , 1.4, 0.3, nan],\n",
       "       [5.1, 3.8, 1.6, 0.2, nan],\n",
       "       [4.6, 3.2, 1.4, 0.2, nan],\n",
       "       [5.3, 3.7, 1.5, 0.2, nan],\n",
       "       [5. , 3.3, 1.4, 0.2, nan],\n",
       "       [7. , 3.2, 4.7, 1.4, nan],\n",
       "       [6.4, 3.2, 4.5, 1.5, nan],\n",
       "       [6.9, 3.1, 4.9, 1.5, nan],\n",
       "       [5.5, 2.3, 4. , 1.3, nan],\n",
       "       [6.5, 2.8, 4.6, 1.5, nan],\n",
       "       [5.7, 2.8, 4.5, 1.3, nan],\n",
       "       [6.3, 3.3, 4.7, 1.6, nan],\n",
       "       [4.9, 2.4, 3.3, 1. , nan],\n",
       "       [6.6, 2.9, 4.6, 1.3, nan],\n",
       "       [5.2, 2.7, 3.9, 1.4, nan],\n",
       "       [5. , 2. , 3.5, 1. , nan],\n",
       "       [5.9, 3. , 4.2, 1.5, nan],\n",
       "       [6. , 2.2, 4. , 1. , nan],\n",
       "       [6.1, 2.9, 4.7, 1.4, nan],\n",
       "       [5.6, 2.9, 3.6, 1.3, nan],\n",
       "       [6.7, 3.1, 4.4, 1.4, nan],\n",
       "       [5.6, 3. , 4.5, 1.5, nan],\n",
       "       [5.8, 2.7, 4.1, 1. , nan],\n",
       "       [6.2, 2.2, 4.5, 1.5, nan],\n",
       "       [5.6, 2.5, 3.9, 1.1, nan],\n",
       "       [5.9, 3.2, 4.8, 1.8, nan],\n",
       "       [6.1, 2.8, 4. , 1.3, nan],\n",
       "       [6.3, 2.5, 4.9, 1.5, nan],\n",
       "       [6.1, 2.8, 4.7, 1.2, nan],\n",
       "       [6.4, 2.9, 4.3, 1.3, nan],\n",
       "       [6.6, 3. , 4.4, 1.4, nan],\n",
       "       [6.8, 2.8, 4.8, 1.4, nan],\n",
       "       [6.7, 3. , 5. , 1.7, nan],\n",
       "       [6. , 2.9, 4.5, 1.5, nan],\n",
       "       [5.7, 2.6, 3.5, 1. , nan],\n",
       "       [5.5, 2.4, 3.8, 1.1, nan],\n",
       "       [5.5, 2.4, 3.7, 1. , nan],\n",
       "       [5.8, 2.7, 3.9, 1.2, nan],\n",
       "       [6. , 2.7, 5.1, 1.6, nan],\n",
       "       [5.4, 3. , 4.5, 1.5, nan],\n",
       "       [6. , 3.4, 4.5, 1.6, nan],\n",
       "       [6.7, 3.1, 4.7, 1.5, nan],\n",
       "       [6.3, 2.3, 4.4, 1.3, nan],\n",
       "       [5.6, 3. , 4.1, 1.3, nan],\n",
       "       [5.5, 2.5, 4. , 1.3, nan],\n",
       "       [5.5, 2.6, 4.4, 1.2, nan],\n",
       "       [6.1, 3. , 4.6, 1.4, nan],\n",
       "       [5.8, 2.6, 4. , 1.2, nan],\n",
       "       [5. , 2.3, 3.3, 1. , nan],\n",
       "       [5.6, 2.7, 4.2, 1.3, nan],\n",
       "       [5.7, 3. , 4.2, 1.2, nan],\n",
       "       [5.7, 2.9, 4.2, 1.3, nan],\n",
       "       [6.2, 2.9, 4.3, 1.3, nan],\n",
       "       [5.1, 2.5, 3. , 1.1, nan],\n",
       "       [5.7, 2.8, 4.1, 1.3, nan],\n",
       "       [6.3, 3.3, 6. , 2.5, nan],\n",
       "       [5.8, 2.7, 5.1, 1.9, nan],\n",
       "       [7.1, 3. , 5.9, 2.1, nan],\n",
       "       [6.3, 2.9, 5.6, 1.8, nan],\n",
       "       [6.5, 3. , 5.8, 2.2, nan],\n",
       "       [7.6, 3. , 6.6, 2.1, nan],\n",
       "       [4.9, 2.5, 4.5, 1.7, nan],\n",
       "       [7.3, 2.9, 6.3, 1.8, nan],\n",
       "       [6.7, 2.5, 5.8, 1.8, nan],\n",
       "       [7.2, 3.6, 6.1, 2.5, nan],\n",
       "       [6.5, 3.2, 5.1, 2. , nan],\n",
       "       [6.4, 2.7, 5.3, 1.9, nan],\n",
       "       [6.8, 3. , 5.5, 2.1, nan],\n",
       "       [5.7, 2.5, 5. , 2. , nan],\n",
       "       [5.8, 2.8, 5.1, 2.4, nan],\n",
       "       [6.4, 3.2, 5.3, 2.3, nan],\n",
       "       [6.5, 3. , 5.5, 1.8, nan],\n",
       "       [7.7, 3.8, 6.7, 2.2, nan],\n",
       "       [7.7, 2.6, 6.9, 2.3, nan],\n",
       "       [6. , 2.2, 5. , 1.5, nan],\n",
       "       [6.9, 3.2, 5.7, 2.3, nan],\n",
       "       [5.6, 2.8, 4.9, 2. , nan],\n",
       "       [7.7, 2.8, 6.7, 2. , nan],\n",
       "       [6.3, 2.7, 4.9, 1.8, nan],\n",
       "       [6.7, 3.3, 5.7, 2.1, nan],\n",
       "       [7.2, 3.2, 6. , 1.8, nan],\n",
       "       [6.2, 2.8, 4.8, 1.8, nan],\n",
       "       [6.1, 3. , 4.9, 1.8, nan],\n",
       "       [6.4, 2.8, 5.6, 2.1, nan],\n",
       "       [7.2, 3. , 5.8, 1.6, nan],\n",
       "       [7.4, 2.8, 6.1, 1.9, nan],\n",
       "       [7.9, 3.8, 6.4, 2. , nan],\n",
       "       [6.4, 2.8, 5.6, 2.2, nan],\n",
       "       [6.3, 2.8, 5.1, 1.5, nan],\n",
       "       [6.1, 2.6, 5.6, 1.4, nan],\n",
       "       [7.7, 3. , 6.1, 2.3, nan],\n",
       "       [6.3, 3.4, 5.6, 2.4, nan],\n",
       "       [6.4, 3.1, 5.5, 1.8, nan],\n",
       "       [6. , 3. , 4.8, 1.8, nan],\n",
       "       [6.9, 3.1, 5.4, 2.1, nan],\n",
       "       [6.7, 3.1, 5.6, 2.4, nan],\n",
       "       [6.9, 3.1, 5.1, 2.3, nan],\n",
       "       [5.8, 2.7, 5.1, 1.9, nan],\n",
       "       [6.8, 3.2, 5.9, 2.3, nan],\n",
       "       [6.7, 3.3, 5.7, 2.5, nan],\n",
       "       [6.7, 3. , 5.2, 2.3, nan],\n",
       "       [6.3, 2.5, 5. , 1.9, nan],\n",
       "       [6.5, 3. , 5.2, 2. , nan],\n",
       "       [6.2, 3.4, 5.4, 2.3, nan],\n",
       "       [5.9, 3. , 5.1, 1.8, nan]])"
      ]
     },
     "execution_count": 27,
     "metadata": {},
     "output_type": "execute_result"
    }
   ],
   "source": [
    "# archive (i.e. compress) the data\n",
    "np.savez_compressed('iris_compressed.npz', a=iris_2d, b=arr)\n",
    "arch = np.load('iris_compressed.npz')\n",
    "arch['a']"
   ]
  },
  {
   "cell_type": "code",
   "execution_count": 28,
   "metadata": {},
   "outputs": [
    {
     "name": "stdout",
     "output_type": "stream",
     "text": [
      "C:\\Users\\training\\iris_compressed.npz\n"
     ]
    },
    {
     "name": "stderr",
     "output_type": "stream",
     "text": [
      "The process cannot access the file because it is being used by another process.\n"
     ]
    }
   ],
   "source": [
    "# we can clean up (may need to restart the kernel)\n",
    "!del iris_compressed.npz !rm on linux"
   ]
  },
  {
   "cell_type": "code",
   "execution_count": null,
   "metadata": {},
   "outputs": [],
   "source": []
  },
  {
   "cell_type": "code",
   "execution_count": null,
   "metadata": {},
   "outputs": [],
   "source": []
  },
  {
   "cell_type": "code",
   "execution_count": null,
   "metadata": {},
   "outputs": [],
   "source": []
  },
  {
   "cell_type": "code",
   "execution_count": null,
   "metadata": {},
   "outputs": [],
   "source": []
  },
  {
   "cell_type": "code",
   "execution_count": 30,
   "metadata": {},
   "outputs": [
    {
     "data": {
      "image/png": "[encoded data removed]",
      "text/plain": [
       "<Figure size 432x288 with 1 Axes>"
      ]
     },
     "metadata": {
      "needs_background": "light"
     },
     "output_type": "display_data"
    }
   ],
   "source": [
    "nums = np.array([0.5, 0.7, 1.0, 1.2, 1.3, 2.1])\n",
    "bins = np.array([0, 1, 2, 3])\n",
    "plt.hist(nums, bins=bins)\n",
    "plt.show()"
   ]
  }
 ],
 "metadata": {
  "kernelspec": {
   "display_name": "Python 3",
   "language": "python",
   "name": "python3"
  },
  "language_info": {
   "codemirror_mode": {
    "name": "ipython",
    "version": 3
   },
   "file_extension": ".py",
   "mimetype": "text/x-python",
   "name": "python",
   "nbconvert_exporter": "python",
   "pygments_lexer": "ipython3",
   "version": "3.8.5"
  }
 },
 "nbformat": 4,
 "nbformat_minor": 4
}
