{
 "cells": [
  {
   "cell_type": "markdown",
   "metadata": {},
   "source": [
    "## This is Markdown\n",
    "we can document our code nicely"
   ]
  },
  {
   "cell_type": "code",
   "execution_count": 51,
   "metadata": {},
   "outputs": [
    {
     "data": {
      "text/plain": [
       "2.3333333333333335"
      ]
     },
     "execution_count": 51,
     "metadata": {},
     "output_type": "execute_result"
    }
   ],
   "source": [
    "a = 3\n",
    "b = 7\n",
    "b/a"
   ]
  },
  {
   "cell_type": "code",
   "execution_count": 52,
   "metadata": {},
   "outputs": [],
   "source": [
    "def doStuff():\n",
    "    pass\n",
    "\n",
    "doStuff()"
   ]
  },
  {
   "cell_type": "markdown",
   "metadata": {},
   "source": [
    "## Using Jupyter with Python"
   ]
  },
  {
   "cell_type": "code",
   "execution_count": 53,
   "metadata": {},
   "outputs": [
    {
     "name": "stdout",
     "output_type": "stream",
     "text": [
      "español\n"
     ]
    },
    {
     "data": {
      "text/plain": [
       "(b'espa\\xc3\\xb1ol', bytes)"
      ]
     },
     "execution_count": 53,
     "metadata": {},
     "output_type": "execute_result"
    }
   ],
   "source": [
    "v = 'español'\n",
    "v # this uses the '__repr__' rather than the '__str__' method\n",
    "print(v)\n",
    "v_utf = v.encode('utf-8')\n",
    "v_utf, type(v_utf)"
   ]
  },
  {
   "cell_type": "code",
   "execution_count": 54,
   "metadata": {},
   "outputs": [],
   "source": [
    "# declare a simple function\n",
    "def cube(n):\n",
    "    return n*n*n"
   ]
  },
  {
   "cell_type": "code",
   "execution_count": 50,
   "metadata": {},
   "outputs": [
    {
     "data": {
      "text/plain": [
       "27"
      ]
     },
     "execution_count": 50,
     "metadata": {},
     "output_type": "execute_result"
    }
   ],
   "source": [
    "cube(3)"
   ]
  },
  {
   "cell_type": "code",
   "execution_count": 55,
   "metadata": {},
   "outputs": [
    {
     "data": {
      "text/plain": [
       "-27"
      ]
     },
     "execution_count": 55,
     "metadata": {},
     "output_type": "execute_result"
    }
   ],
   "source": [
    "cube(-3)"
   ]
  },
  {
   "cell_type": "code",
   "execution_count": 56,
   "metadata": {},
   "outputs": [
    {
     "data": {
      "text/plain": [
       "'español'"
      ]
     },
     "execution_count": 56,
     "metadata": {},
     "output_type": "execute_result"
    }
   ],
   "source": [
    "v"
   ]
  },
  {
   "cell_type": "code",
   "execution_count": 65,
   "metadata": {},
   "outputs": [
    {
     "data": {
      "text/plain": [
       "[3, 4, 5, 6, 7, 8]"
      ]
     },
     "execution_count": 65,
     "metadata": {},
     "output_type": "execute_result"
    }
   ],
   "source": [
    "# unpacking tuples\n",
    "t = (4,5,6,7)\n",
    "a, b, c, d = t\n",
    "d\n",
    "seq = 1,2,3,4,5,6,7,8 # wow - no bracket!\n",
    "seq\n",
    "x, y, *rest = seq # rest will contain all the other members\n",
    "rest"
   ]
  },
  {
   "cell_type": "code",
   "execution_count": 69,
   "metadata": {},
   "outputs": [
    {
     "data": {
      "text/plain": [
       "['He', 'saw', 'six', 'Foxes', 'small']"
      ]
     },
     "execution_count": 69,
     "metadata": {},
     "output_type": "execute_result"
    }
   ],
   "source": [
    "# using lists\n",
    "a = [7,2,6,3,5,4]\n",
    "a.sort()\n",
    "b = ['saw', 'small', 'He', 'Foxes', 'six']\n",
    "b.sort()\n",
    "b.sort(key=len)\n",
    "b # note the collection is sorted in place - we have lost the original order"
   ]
  },
  {
   "cell_type": "code",
   "execution_count": 78,
   "metadata": {},
   "outputs": [
    {
     "data": {
      "text/plain": [
       "[('foo', 'one', 'red'),\n",
       " ('bar', 'two', 'blue'),\n",
       " ('baz', 'three', 'orange'),\n",
       " ('bop', 'four', 'grey')]"
      ]
     },
     "execution_count": 78,
     "metadata": {},
     "output_type": "execute_result"
    }
   ],
   "source": [
    "# Using zip\n",
    "s1 = ['foo', 'bar', 'baz', 'bop']\n",
    "s2 = ['one', 'two', 'three', 'four']\n",
    "s3 = ['red', 'blue', 'orange', 'grey', 'white']\n",
    "z = zip(s1, s2, s3)\n",
    "list(z) # put our zip object into a list (of tuples)"
   ]
  },
  {
   "cell_type": "code",
   "execution_count": 85,
   "metadata": {},
   "outputs": [
    {
     "name": "stdout",
     "output_type": "stream",
     "text": [
      "0: red one foo\n",
      "1: blue two bar\n",
      "2: orange three baz\n",
      "3: grey four bop\n"
     ]
    }
   ],
   "source": [
    "for i, (a,b,c) in enumerate(zip(s1, s2, s3)):\n",
    "    print('{0}: {3} {2} {1}'.format(i, a, b, c))"
   ]
  },
  {
   "cell_type": "code",
   "execution_count": null,
   "metadata": {},
   "outputs": [],
   "source": []
  }
 ],
 "metadata": {
  "kernelspec": {
   "display_name": "Python 3",
   "language": "python",
   "name": "python3"
  },
  "language_info": {
   "codemirror_mode": {
    "name": "ipython",
    "version": 3
   },
   "file_extension": ".py",
   "mimetype": "text/x-python",
   "name": "python",
   "nbconvert_exporter": "python",
   "pygments_lexer": "ipython3",
   "version": "3.8.5"
  }
 },
 "nbformat": 4,
 "nbformat_minor": 4
}
